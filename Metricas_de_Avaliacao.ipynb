{
  "nbformat": 4,
  "nbformat_minor": 0,
  "metadata": {
    "colab": {
      "provenance": [],
      "toc_visible": true,
      "authorship_tag": "ABX9TyNo3uLDFs5/oA+5poN06J6g",
      "include_colab_link": true
    },
    "kernelspec": {
      "name": "python3",
      "display_name": "Python 3"
    },
    "language_info": {
      "name": "python"
    }
  },
  "cells": [
    {
      "cell_type": "markdown",
      "metadata": {
        "id": "view-in-github",
        "colab_type": "text"
      },
      "source": [
        "<a href=\"https://colab.research.google.com/github/sebavassou/metricas_avaliacao/blob/main/Metricas_de_Avaliacao.ipynb\" target=\"_parent\"><img src=\"https://colab.research.google.com/assets/colab-badge.svg\" alt=\"Open In Colab\"/></a>"
      ]
    },
    {
      "cell_type": "code",
      "execution_count": null,
      "metadata": {
        "id": "lW4Xxfwgkt_W"
      },
      "outputs": [],
      "source": []
    },
    {
      "cell_type": "markdown",
      "source": [
        "Cálculo de Métricas de Avaliação de Aprendizado\n",
        "\n",
        "Neste projeto, vamos calcular as principais métricas para avaliação de modelos de classificação de dados, como acurácia, sensibilidade (recall), especificidade, precisão e F-score. Para que seja possível implementar estas funções, você deve utilizar os métodos e suas fórmulas correspondentes (Tabela 1).\n",
        "\n",
        "Para a leitura dos valores de VP, VN, FP e FN, será necessário escolher uma matriz de confusão para a base dos cálculos. Essa matriz você pode escolher de forma arbitraria, pois nosso objetivo é entender como funciona cada métrica.  \n",
        "\n",
        " Para realizar o desafio, vamos utilizar como exemplo uma Matriz de Confusão de classificação de imagens de Gatos e Cachorros.\n",
        "\n",
        " Uma matriz de confusão é uma ferramenta essencial para avaliar o desempenho de modelos de classificação, incluindo aqueles que diferenciam fotos de gatos e cachorros. Ela fornece uma visualização detalhada dos acertos e erros do modelo, permitindo uma análise mais profunda do que simplesmente calcular a acurácia geral.\n",
        "Estrutura da Matriz de Confusão\n",
        "Para um problema de classificação binária entre gatos e cachorros, a matriz de confusão típica teria a seguinte estrutura:\n",
        "\n",
        "Estrutura da Matriz de Confusão\n",
        "Para um problema de classificação binária entre gatos e cachorros, a matriz de confusão típica teria a seguinte estrutura:\n"
      ],
      "metadata": {
        "id": "lf6-5uidkxw1"
      }
    },
    {
      "cell_type": "markdown",
      "source": [],
      "metadata": {
        "id": "QG4j_5uno8-Q"
      }
    },
    {
      "cell_type": "code",
      "source": [
        "from IPython.display import Image\n",
        "Image(url='https://raw.githubusercontent.com/sebavassou/metricas_avaliacao/main/tabela%20gatos%20cachorros.jpeg')"
      ],
      "metadata": {
        "colab": {
          "base_uri": "https://localhost:8080/",
          "height": 159
        },
        "id": "z-8evoqQo3cb",
        "outputId": "58cc1c82-b4ff-4cb9-87f0-05f049dbef2d"
      },
      "execution_count": 9,
      "outputs": [
        {
          "output_type": "execute_result",
          "data": {
            "text/html": [
              "<img src=\"https://raw.githubusercontent.com/sebavassou/metricas_avaliacao/main/tabela%20gatos%20cachorros.jpeg\"/>"
            ],
            "text/plain": [
              "<IPython.core.display.Image object>"
            ]
          },
          "metadata": {},
          "execution_count": 9
        }
      ]
    },
    {
      "cell_type": "markdown",
      "source": [
        "Onde:\n",
        "\n",
        "VP (Verdadeiro Positivo): Gatos corretamente classificados como gatos\n",
        "\n",
        "VN (Verdadeiro Negativo): Cachorros corretamente classificados como cachorros\n",
        "\n",
        "FP (Falso Positivo): Cachorros incorretamente classificados como gatos\n",
        "\n",
        "FN (Falso Negativo): Gatos incorretamente classificados como cachorros\n",
        "\n",
        "Interpretação\n",
        "A interpretação da matriz de confusão para classificação de gatos e cachorros envolve analisar cada quadrante:\n",
        "Verdadeiros Positivos (VP): Indica quantas fotos de gatos foram corretamente identificadas como gatos.\n",
        "Verdadeiros Negativos (VN): Mostra quantas fotos de cachorros foram corretamente identificadas como cachorros.\n",
        "Falsos Positivos (FP): Revela quantas fotos de cachorros foram erroneamente classificadas como gatos.\n",
        "Falsos Negativos (FN): Indica quantas fotos de gatos foram erroneamente classificadas como cachorros.\n",
        "\n",
        "Exemplo Prático\n",
        "Para o nosso desafio vamos considerar um modelo que classifica 100 fotos, sendo 60 de gatos e 40 de cachorros.\n",
        "Ess modelo teria a seguinte Matriz de Confusão:"
      ],
      "metadata": {
        "id": "plGz4NrjpCpj"
      }
    },
    {
      "cell_type": "code",
      "source": [
        "from IPython.display import Image\n",
        "\n",
        "Image(url='https://github.com/sebavassou/metricas_avaliacao/blob/main/matriz%20gatos%20cachorros.jpeg')"
      ],
      "metadata": {
        "colab": {
          "base_uri": "https://localhost:8080/",
          "height": 37
        },
        "id": "kJloVmSOpQlq",
        "outputId": "d910c22e-a929-4b6e-9049-5a0bf7b8bd95"
      },
      "execution_count": 12,
      "outputs": [
        {
          "output_type": "execute_result",
          "data": {
            "text/html": [
              "<img src=\"https://github.com/sebavassou/metricas_avaliacao/blob/main/matriz%20gatos%20cachorros.jpeg\"/>"
            ],
            "text/plain": [
              "<IPython.core.display.Image object>"
            ]
          },
          "metadata": {},
          "execution_count": 12
        }
      ]
    },
    {
      "cell_type": "markdown",
      "source": [
        "Neste exemplo:\n",
        "55 gatos foram corretamente identificados (VP)\n",
        "37 cachorros foram corretamente identificados (VN)\n",
        "3 cachorros foram erroneamente classificados como gatos (FP)\n",
        "5 gatos foram erroneamente classificados como cachorros (FN)"
      ],
      "metadata": {
        "id": "n8A0MOLfq9i6"
      }
    },
    {
      "cell_type": "code",
      "source": [],
      "metadata": {
        "id": "gZPhq0W0qb5i"
      },
      "execution_count": null,
      "outputs": []
    },
    {
      "cell_type": "markdown",
      "source": [
        "Para calcular as principais métricas de avaliação usando os valores da matriz de confusão apresentada anteriormente (VP=55, VN=37, FP=3, FN=5), seguem as fórmulas e resultados:\n",
        "\n",
        "**Métricas e Cálculos**"
      ],
      "metadata": {
        "id": "yY1ANPXUrW2S"
      }
    },
    {
      "cell_type": "code",
      "source": [],
      "metadata": {
        "id": "GbrtXK7Eruvp"
      },
      "execution_count": null,
      "outputs": []
    },
    {
      "cell_type": "code",
      "source": [
        "import pandas as pd\n",
        "\n",
        "# Valores da matriz de confusão\n",
        "VP = 55\n",
        "VN = 37\n",
        "FP = 3\n",
        "FN = 5\n",
        "\n",
        "# Criando um DataFrame para armazenar os valores e cálculos\n",
        "metrics = pd.DataFrame({\n",
        "    'Métrica': ['Sensibilidade', 'Especificidade', 'Acurácia', 'Precisão', 'F1-Score'],\n",
        "    'Fórmula': [\n",
        "        'VP / (VP + FN)',\n",
        "        'VN / (FP + VN)',\n",
        "        '(VP + VN) / (VP + VN + FP + FN)',\n",
        "        'VP / (VP + FP)',\n",
        "        '2 * (Precisão * Sensibilidade) / (Precisão + Sensibilidade)'\n",
        "    ],\n",
        "    'Cálculo': [\n",
        "        VP / (VP + FN),  # Sensibilidade\n",
        "        VN / (FP + VN),  # Especificidade\n",
        "        (VP + VN) / (VP + VN + FP + FN),  # Acurácia\n",
        "        VP / (VP + FP),  # Precisão\n",
        "        2 * ((VP / (VP + FP)) * (VP / (VP + FN))) / ((VP / (VP + FP)) + (VP / (VP + FN)))  # F1-Score\n",
        "    ]\n",
        "})\n",
        "\n",
        "# Exibindo o DataFrame com os resultados\n",
        "print(metrics)\n"
      ],
      "metadata": {
        "colab": {
          "base_uri": "https://localhost:8080/"
        },
        "id": "wdb_85lerX0k",
        "outputId": "6b86221e-d91c-429d-a433-70eda3039fc9"
      },
      "execution_count": 14,
      "outputs": [
        {
          "output_type": "stream",
          "name": "stdout",
          "text": [
            "          Métrica                                            Fórmula   Cálculo\n",
            "0   Sensibilidade                                     VP / (VP + FN)  0.916667\n",
            "1  Especificidade                                     VN / (FP + VN)  0.925000\n",
            "2        Acurácia                    (VP + VN) / (VP + VN + FP + FN)  0.920000\n",
            "3        Precisão                                     VP / (VP + FP)  0.948276\n",
            "4        F1-Score  2 * (Precisão * Sensibilidade) / (Precisão + S...  0.932203\n"
          ]
        }
      ]
    }
  ]
}